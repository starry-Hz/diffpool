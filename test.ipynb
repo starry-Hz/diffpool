{
 "cells": [
  {
   "cell_type": "code",
   "execution_count": 1,
   "metadata": {},
   "outputs": [
    {
     "name": "stdout",
     "output_type": "stream",
     "text": [
      "tensor([[0., 1., 0., 0., 0.],\n",
      "        [0., 0., 0., 1., 0.],\n",
      "        [0., 0., 0., 0., 1.]])\n"
     ]
    },
    {
     "data": {
      "text/plain": [
       "tensor([[0., 1., 0., 0., 0.],\n",
       "        [0., 0., 0., 1., 0.],\n",
       "        [0., 0., 0., 0., 1.]])"
      ]
     },
     "execution_count": 1,
     "metadata": {},
     "output_type": "execute_result"
    }
   ],
   "source": [
    "import torch\n",
    "\n",
    "# 创建一个全零的二维张量，形状为 [3, 5]，表示 3 个样本，每个样本有 5 个类别。\n",
    "tensor = torch.zeros(3, 5)\n",
    "\n",
    "# 真实标签，表示每个样本所属的类别索引\n",
    "labels = torch.tensor([1, 3, 4])  # 三个样本的类别分别是 1, 3, 4\n",
    "\n",
    "# 使用 scatter_ 将每行中指定索引（labels）的值设置为 1\n",
    "tensor.scatter_(1, labels.view(-1, 1), 1)\n",
    "\n",
    "print(tensor)\n",
    "tensor"
   ]
  },
  {
   "cell_type": "code",
   "execution_count": 2,
   "metadata": {},
   "outputs": [
    {
     "name": "stdout",
     "output_type": "stream",
     "text": [
      "tensor([[0., 1., 0., 0., 0.],\n",
      "        [0., 0., 1., 0., 0.],\n",
      "        [0., 0., 0., 1., 0.]])\n"
     ]
    },
    {
     "data": {
      "text/plain": [
       "tensor([[0., 1., 0., 0., 0.],\n",
       "        [0., 0., 1., 0., 0.],\n",
       "        [0., 0., 0., 1., 0.]])"
      ]
     },
     "execution_count": 2,
     "metadata": {},
     "output_type": "execute_result"
    }
   ],
   "source": [
    "import torch\n",
    "\n",
    "# 创建一个全零的二维张量，形状为 [3, 5]，表示 3 个样本，每个样本有 5 个类别。\n",
    "tensor = torch.zeros(3, 5)\n",
    "\n",
    "# 真实标签，表示每个样本所属的类别索引\n",
    "labels = torch.tensor([1, 2, 3])  # 三个样本的类别分别是 1, 3, 4\n",
    "\n",
    "# 使用 scatter_ 将每行中指定索引（labels）的值设置为 1\n",
    "tensor.scatter_(1, labels.view(-1, 1), 1)\n",
    "\n",
    "print(tensor)\n",
    "tensor"
   ]
  }
 ],
 "metadata": {
  "kernelspec": {
   "display_name": "diffpool",
   "language": "python",
   "name": "python3"
  },
  "language_info": {
   "codemirror_mode": {
    "name": "ipython",
    "version": 3
   },
   "file_extension": ".py",
   "mimetype": "text/x-python",
   "name": "python",
   "nbconvert_exporter": "python",
   "pygments_lexer": "ipython3",
   "version": "3.10.15"
  }
 },
 "nbformat": 4,
 "nbformat_minor": 2
}
